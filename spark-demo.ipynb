{
 "cells": [
  {
   "cell_type": "markdown",
   "metadata": {},
   "source": [
    "<table>\n",
    "        <tr>\n",
    "          <th>Name<br></th>\n",
    "          <th>URL</th>\n",
    "        </tr>\n",
    "        <tr>\n",
    "          <td>Jupyter notebook on spark-master (get token from terminal)</td>\n",
    "          <td><a href=\"http://localhost:8888\">http://localhost:8888</a></td>\n",
    "        </tr>\n",
    "        <tr>\n",
    "          <td>Spark Master Web UI - Overall</td>\n",
    "          <td><a href=\"http://localhost:8080\">http://localhost:8080</a></td>\n",
    "        </tr>\n",
    "        <tr>\n",
    "          <td>Spark Master Web UI - App (when an app is running)</td>\n",
    "          <td><a href=\"http://localhost:4040\">http://localhost:4040</a></td>\n",
    "        </tr>\n",
    "        <tr>\n",
    "          <td>Spark Worker Web UI (only when enabled)</td>\n",
    "          <td><a href=\"http://localhost:8081\">http://localhost:8081</a></td>\n",
    "        </tr>\n",
    "      </table>"
   ]
  },
  {
   "cell_type": "code",
   "execution_count": 3,
   "metadata": {},
   "outputs": [],
   "source": [
    "import os\n",
    "import json\n",
    "from typing import List, Tuple\n",
    "\n",
    "import numpy as np\n",
    "import pandas as pd\n",
    "import matplotlib.pyplot as plt\n",
    "import seaborn as sns\n",
    "# from pyspark.ml.feature import Bucketizer\n",
    "# import pyspark\n",
    "# import pyspark.sql.functions as fn\n",
    "# from pyspark.sql import SparkSession"
   ]
  },
  {
   "cell_type": "code",
   "execution_count": 2,
   "metadata": {},
   "outputs": [
    {
     "name": "stdout",
     "output_type": "stream",
     "text": [
      "spark://spark-master:7077\n"
     ]
    }
   ],
   "source": [
    "spark_master = 'spark://{}:{}'.format(os.environ['SPARK_MASTER_HOST'],\n",
    "                                    os.environ['SPARK_MASTER_PORT'])\n",
    "print(spark_master)"
   ]
  },
  {
   "cell_type": "code",
   "execution_count": 3,
   "metadata": {},
   "outputs": [],
   "source": [
    "spark = (SparkSession.builder\n",
    "         .master(spark_master)\n",
    "         .appName('my_app')\n",
    "         .getOrCreate())"
   ]
  },
  {
   "cell_type": "code",
   "execution_count": 4,
   "metadata": {},
   "outputs": [],
   "source": [
    "ND = np.ndarray\n",
    "DF = pd.DataFrame\n",
    "S = pd.Series\n",
    "# SDF = pyspark.sql.DataFrame"
   ]
  },
  {
   "cell_type": "code",
   "execution_count": 13,
   "metadata": {},
   "outputs": [],
   "source": [
    "def transform(self, f, **kwargs):\n",
    "    return f(self, **kwargs)\n",
    "\n",
    "pyspark.sql.DataFrame.transform = transform\n",
    "\n",
    "del transform"
   ]
  },
  {
   "cell_type": "markdown",
   "metadata": {},
   "source": [
    "# ダミーデータ生成"
   ]
  },
  {
   "cell_type": "code",
   "execution_count": 40,
   "metadata": {},
   "outputs": [],
   "source": [
    "def gen_small_count(n_samples: int, lam: float = 0.6) -> ND:\n",
    "    return np.random.poisson(lam, n_samples)\n",
    "\n",
    "def gen_large_count(n_samples: int, scale: int = 1) -> ND:\n",
    "    size_pareto = int(n_samples * 0.85)\n",
    "    size_zeros = n_samples - size_pareto\n",
    "    pareto = np.round(np.random.pareto(6, size_pareto) * scale).astype(int)\n",
    "    zeros = np.zeros(size_zeros).astype(np.int64)\n",
    "    return np.random.permutation(np.concatenate([pareto, zeros]))\n",
    "\n",
    "def gen_boolean(n_samples: int, true_rate: float = 0.3) -> ND:\n",
    "    return np.random.choice([0, 1], size=n_samples, p=[1 - true_rate, true_rate])\n",
    "\n",
    "def gen(n_samples: int) -> SDF:\n",
    "    visit = gen_boolean(n_samples, true_rate=0.9)\n",
    "    inflow = visit * gen_boolean(n_samples, true_rate=0.6)\n",
    "    return spark.createDataFrame(pd.DataFrame({\n",
    "        'n_sessions': gen_large_count(n_samples, scale=20),\n",
    "        'visit': visit,\n",
    "        'inflow': inflow,\n",
    "        'sales': gen_large_count(n_samples, scale=2000),\n",
    "        'n_charges': gen_small_count(n_samples),\n",
    "        'is_premium': gen_boolean(n_samples),\n",
    "        'credit_usage': gen_large_count(n_samples, scale=10000),\n",
    "    }))"
   ]
  },
  {
   "cell_type": "code",
   "execution_count": 41,
   "metadata": {},
   "outputs": [],
   "source": [
    "features = gen(100000)"
   ]
  },
  {
   "cell_type": "markdown",
   "metadata": {},
   "source": [
    "# 分布のプロット"
   ]
  },
  {
   "cell_type": "code",
   "execution_count": 42,
   "metadata": {},
   "outputs": [],
   "source": [
    "def distplot_sampled(sdf: SDF, col: str, sampling_rate: float = 0.01, without_zero: bool = False, without_outlier: bool = False):\n",
    "    \"\"\"\n",
    "    指定した列のヒストグラムをプロットする。\n",
    "    描画リソースの節約のためにサンプリングを行う（デフォルトで1%）\n",
    "    ゼロや外れ値に引っ張られて分布の形状を確認しづらい場合のために、サプリング後にゼロや3σ外れ値を削除するオプションあり\n",
    "    \"\"\"\n",
    "    plotdata = (\n",
    "        sdf\n",
    "        .sample(fraction=sampling_rate, seed=31)\n",
    "        .select(col)\n",
    "        .toPandas()\n",
    "        .loc[:, col]\n",
    "    )\n",
    "    if without_zero:\n",
    "        plotdata = plotdata[plotdata != 0]\n",
    "    if without_outlier:\n",
    "        thresh = plotdata.mean() + plotdata.std() * 3\n",
    "        plotdata = plotdata[plotdata <= thresh]\n",
    "    return sns.distplot(plotdata)\n"
   ]
  },
  {
   "cell_type": "code",
   "execution_count": 43,
   "metadata": {},
   "outputs": [
    {
     "data": {
      "text/plain": [
       "<AxesSubplot:xlabel='n_charges'>"
      ]
     },
     "execution_count": 43,
     "metadata": {},
     "output_type": "execute_result"
    },
    {
     "data": {
      "image/png": "[encoded data removed]",
      "text/plain": [
       "<Figure size 432x288 with 1 Axes>"
      ]
     },
     "metadata": {
      "needs_background": "light"
     },
     "output_type": "display_data"
    }
   ],
   "source": [
    "distplot_sampled(features, col='n_charges', sampling_rate=0.01)"
   ]
  },
  {
   "cell_type": "code",
   "execution_count": 44,
   "metadata": {},
   "outputs": [
    {
     "data": {
      "text/plain": [
       "<AxesSubplot:xlabel='credit_usage'>"
      ]
     },
     "execution_count": 44,
     "metadata": {},
     "output_type": "execute_result"
    },
    {
     "data": {
      "image/png": "[encoded data removed]",
      "text/plain": [
       "<Figure size 432x288 with 1 Axes>"
      ]
     },
     "metadata": {
      "needs_background": "light"
     },
     "output_type": "display_data"
    }
   ],
   "source": [
    "distplot_sampled(features, col='credit_usage', sampling_rate=0.01, without_zero=True, without_outlier=True)"
   ]
  },
  {
   "cell_type": "markdown",
   "metadata": {},
   "source": [
    "# ビン分割"
   ]
  },
  {
   "cell_type": "code",
   "execution_count": 60,
   "metadata": {},
   "outputs": [],
   "source": [
    "def bin_large_int(sdf: SDF, col: str, width: int, upper: int) -> SDF:\n",
    "    \"\"\"\n",
    "    整数値を持つ列を等間隔ビンへ分割する。\n",
    "    col: ビン分割の対象列名\n",
    "    width: 間隔の幅\n",
    "    upper: ビンの上限値\n",
    "    \n",
    "    ex) width=5, upper=15\n",
    "    class-0: 0,\n",
    "    class-1: 1 ~ 5\n",
    "    class-2: 6 ~ 10\n",
    "    class-3: 11 ~ 15\n",
    "    class-4: 16 ~\n",
    "    \n",
    "    参考: splitsによるビンは下限含み上限含まず [lower, upper)\n",
    "    \"\"\"\n",
    "    tmp_col = '____tmp____'\n",
    "    splits = [0, 1] + [i + width + 1 for i in range(0, upper, width)] + [np.inf]\n",
    "    n_bins = len(splits) - 1\n",
    "    if n_bins < 10:\n",
    "        bin_names = ['0'] + [f'{i + 1}_{i * width + 1}~{i * width + width}' for i in range(n_bins - 2)] + [f'{n_bins-1}_{upper + 1}~']\n",
    "    else:\n",
    "        bin_names = ['00'] + [f'{i + 1:02d}_{i * width + 1}~{i * width + width}' for i in range(n_bins - 2)] + [f'{n_bins-1:02d}_{upper + 1}~']\n",
    "    rename_dict = {str(i): v for i, v in enumerate(bin_names)}\n",
    "    return (\n",
    "        Bucketizer(splits=splits, inputCol=col, outputCol=tmp_col)\n",
    "        .transform(sdf)\n",
    "        .withColumn(col, fn.col(tmp_col).cast('int').cast('string'))\n",
    "        .drop(tmp_col)\n",
    "        .replace(rename_dict, subset=[col])\n",
    "    )\n"
   ]
  },
  {
   "cell_type": "code",
   "execution_count": 61,
   "metadata": {},
   "outputs": [],
   "source": [
    "def bin_small_int(sdf: SDF, col: str, upper: int = None) -> SDF:\n",
    "    \"\"\"\n",
    "    カーディナリティの小さい整数値を持つ列をビンへ分割する。\n",
    "    col: ビン分割の対象列名\n",
    "    upper: ビンの上限値\n",
    "    \n",
    "    ex) upper=3\n",
    "    class-0: 0\n",
    "    class-1: 1\n",
    "    class-2: 2\n",
    "    class-3: 3\n",
    "    class-4: 4~\n",
    "    \"\"\"\n",
    "    out = (\n",
    "        fn.when(fn.col(col) >= upper + 1, fn.lit(f'{upper + 1}~'))\n",
    "        .otherwise(fn.col(col).cast('string'))\n",
    "    )\n",
    "    return sdf.withColumn(col, out)\n"
   ]
  },
  {
   "cell_type": "markdown",
   "metadata": {},
   "source": [
    "# 集計"
   ]
  },
  {
   "cell_type": "code",
   "execution_count": 62,
   "metadata": {},
   "outputs": [],
   "source": [
    "agg = (\n",
    "    features\n",
    "    .transform(bin_large_int, col='credit_usage', width=2000, upper=10000)\n",
    "    .transform(bin_small_int, col='n_charges', upper=3)\n",
    "    .groupBy('n_charges', 'is_premium', 'credit_usage')\n",
    "    .agg(\n",
    "        fn.sum('n_sessions').alias('n_sessions'),\n",
    "        fn.sum('sales').alias('sales'),\n",
    "        fn.sum('visit').alias('uu_visit'),\n",
    "        fn.sum('inflow').alias('uu_inflow'),\n",
    "    )\n",
    "    .toPandas()\n",
    ")"
   ]
  },
  {
   "cell_type": "code",
   "execution_count": 5,
   "metadata": {},
   "outputs": [],
   "source": [
    "# agg.to_csv('agg.csv', index=False)\n",
    "agg = pd.read_csv('agg.csv')"
   ]
  },
  {
   "cell_type": "code",
   "execution_count": 6,
   "metadata": {},
   "outputs": [],
   "source": [
    "class HeatFunnelChart:\n",
    "    \n",
    "    def __init__(self, data: DF, funnnels: List[str], heat: Tuple[str, str], heat_name: str = 'heat'):\n",
    "        self.data = data\n",
    "        self.funnnels = funnnels\n",
    "        self.heat = heat\n",
    "        self.heat_name = heat_name\n",
    "        self.sum_cols = list(set(list(heat) + funnnels))\n",
    "    \n",
    "    def _assign_heat(self, df: DF) -> DF:\n",
    "        return df.assign(**{\n",
    "            self.heat_name: df[self.heat[0]] / df[self.heat[1]]\n",
    "        })\n",
    "    \n",
    "    @staticmethod\n",
    "    def _heat_funnel(x: str, y: str, funnels: List[str], heat: str):\n",
    "        \n",
    "        return (x, y, funnels, heat)\n",
    "    \n",
    "    def plot_single(self, x: str):\n",
    "        pdata = self.specify_x(x)\n",
    "        return self._heat_funnel(x=x, y=None, funnels=self.funnnels, heat=self.heat_name)\n",
    "    \n",
    "    def plot_cross(self, x: str, y: str):\n",
    "        pdata = self.specify_xy(x, y)\n",
    "        return self._heat_funnel(x=x, y=y, funnels=self.funnnels, heat=self.heat_name)\n",
    "    \n",
    "    def specify_x(self, x: str) -> DF:\n",
    "        return (\n",
    "            self\n",
    "            .data\n",
    "            .groupby(x)[self.sum_cols]\n",
    "            .sum()\n",
    "            .reset_index()\n",
    "            .pipe(self._assign_heat)[[x] + self.funnnels + [self.heat_name]]\n",
    "        )\n",
    "    \n",
    "    def specify_xy(self, x: str, y: str) -> DF:\n",
    "        return (\n",
    "            self\n",
    "            .data\n",
    "            .groupby([x, y])[self.sum_cols]\n",
    "            .sum()\n",
    "            .reset_index()\n",
    "            .pipe(self._assign_heat)[[x, y] + self.funnnels + [self.heat_name]]\n",
    "        )"
   ]
  },
  {
   "cell_type": "code",
   "execution_count": 7,
   "metadata": {},
   "outputs": [
    {
     "data": {
      "text/plain": [
       "('n_charges', 'credit_usage', ['uu_visit', 'uu_inflow'], 'expectation')"
      ]
     },
     "execution_count": 7,
     "metadata": {},
     "output_type": "execute_result"
    }
   ],
   "source": [
    "HeatFunnelChart(\n",
    "    data=agg,\n",
    "    funnnels=['uu_visit', 'uu_inflow'],\n",
    "    heat=('sales', 'n_sessions'),\n",
    "    heat_name='expectation',\n",
    ").plot_cross(x='n_charges', y='credit_usage')"
   ]
  },
  {
   "cell_type": "code",
   "execution_count": null,
   "metadata": {},
   "outputs": [],
   "source": []
  }
 ],
 "metadata": {
  "kernelspec": {
   "display_name": "Python 3",
   "language": "python",
   "name": "python3"
  },
  "language_info": {
   "codemirror_mode": {
    "name": "ipython",
    "version": 3
   },
   "file_extension": ".py",
   "mimetype": "text/x-python",
   "name": "python",
   "nbconvert_exporter": "python",
   "pygments_lexer": "ipython3",
   "version": "3.7.5"
  }
 },
 "nbformat": 4,
 "nbformat_minor": 4
}
