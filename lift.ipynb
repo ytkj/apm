{
 "cells": [
  {
   "cell_type": "code",
   "execution_count": 62,
   "metadata": {},
   "outputs": [],
   "source": [
    "from typing import List\n",
    "\n",
    "import pandas as pd\n",
    "import numpy as np"
   ]
  },
  {
   "cell_type": "code",
   "execution_count": 2,
   "metadata": {},
   "outputs": [],
   "source": [
    "DF = pd.DataFrame\n",
    "S = pd.Series\n",
    "ND = np.ndarray"
   ]
  },
  {
   "cell_type": "code",
   "execution_count": 10,
   "metadata": {},
   "outputs": [],
   "source": [
    "np.random.seed(31)"
   ]
  },
  {
   "cell_type": "code",
   "execution_count": 29,
   "metadata": {},
   "outputs": [],
   "source": [
    "def gen_toy() -> DF:\n",
    "    records = []\n",
    "    for x1 in range(5):\n",
    "        for x2 in range(5):\n",
    "            for x3 in range(5):\n",
    "                n_samples = np.random.randint(1000)\n",
    "                y_avg = np.random.normal()\n",
    "                records.append(dict(x1=x1, x2=x2, x3=x3, n_samples=n_samples, y_avg=y_avg))\n",
    "    return pd.DataFrame(records)"
   ]
  },
  {
   "cell_type": "code",
   "execution_count": 51,
   "metadata": {},
   "outputs": [],
   "source": [
    "dataset = gen_toy()"
   ]
  },
  {
   "cell_type": "code",
   "execution_count": 116,
   "metadata": {},
   "outputs": [],
   "source": [
    "def lift(data: DF, n_samples: str, driver: str, segments: List[str], target: str, thresh: int):\n",
    "    data = data.copy()\n",
    "    \n",
    "    # driver列を0,1の２クラスへ\n",
    "    # thresh未満は0、threshより大きいと1\n",
    "    # n_samplesは合計、targetは加重平均を取る\n",
    "    tmp = '__tmp__'\n",
    "    data.loc[:, tmp] = 0\n",
    "    data.loc[data[driver] > thresh, tmp] = 1\n",
    "    data = (\n",
    "        data\n",
    "        .drop(columns=[driver])\n",
    "        .rename(columns={tmp: driver})\n",
    "        .assign(y_prod_sum=data[n_samples] * data[target])\n",
    "        .groupby(segments + [driver])\n",
    "        .sum()[[n_samples, 'y_prod_sum']]\n",
    "        .reset_index()\n",
    "    )\n",
    "    data = data.assign(**{target: data.y_prod_sum / data[n_samples]}).drop(columns=['y_prod_sum'])\n",
    "    \n",
    "    # driver列の0と1の間のtargetの差がそのセグメントのliftとなる\n",
    "    pivot = data.pivot(index=segments, columns=driver, values=target)\n",
    "    pivot.columns.name = None\n",
    "    lift = pivot.assign(lift=pivot.loc[:, 1] - pivot.loc[:, 0])['lift']\n",
    "    \n",
    "    # セグメントごとのサンプル数\n",
    "    size = data.groupby(segments).sum()[n_samples]\n",
    "    \n",
    "    # 加重平均をとる\n",
    "    return size.multiply(lift).sum() / size.sum()"
   ]
  },
  {
   "cell_type": "code",
   "execution_count": 117,
   "metadata": {},
   "outputs": [
    {
     "data": {
      "text/plain": [
       "0.3243240764876645"
      ]
     },
     "execution_count": 117,
     "metadata": {},
     "output_type": "execute_result"
    }
   ],
   "source": [
    "lift(\n",
    "    dataset,\n",
    "    driver='x3',\n",
    "    segments=['x1', 'x2'],\n",
    "    n_samples='n_samples',\n",
    "    target='y_avg',\n",
    "    thresh=2.5\n",
    ")"
   ]
  }
 ],
 "metadata": {
  "kernelspec": {
   "display_name": "Python 3",
   "language": "python",
   "name": "python3"
  },
  "language_info": {
   "codemirror_mode": {
    "name": "ipython",
    "version": 3
   },
   "file_extension": ".py",
   "mimetype": "text/x-python",
   "name": "python",
   "nbconvert_exporter": "python",
   "pygments_lexer": "ipython3",
   "version": "3.7.5"
  }
 },
 "nbformat": 4,
 "nbformat_minor": 4
}
